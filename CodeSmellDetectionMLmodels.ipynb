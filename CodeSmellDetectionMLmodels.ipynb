{
 "cells": [
  {
   "cell_type": "markdown",
   "metadata": {
    "tags": []
   },
   "source": [
    "# Detection OF Code Smell Using Machine Learning \n",
    "​\n",
    "### Decision Tree \n",
    "### Support Vector Machine\n",
    "### Logistic Regression\n",
    "### KNN Algorithm \n",
    "### Random Forest \n"
   ]
  },
  {
   "cell_type": "markdown",
   "metadata": {},
   "source": [
    "#### Objectives\n",
    "1. To design and develop machine learning algorithms to detect and characterize various types of code smells.\n",
    "2. To verify and validate the proposed algorithm."
   ]
  },
  {
   "cell_type": "markdown",
   "metadata": {},
   "source": [
    "### Import Library"
   ]
  },
  {
   "cell_type": "code",
   "execution_count": 1,
   "metadata": {},
   "outputs": [],
   "source": [
    "import pandas as pd\n",
    "import pandas as pd\n",
    "import numpy as np\n",
    "from sklearn import metrics\n",
    "import matplotlib.pyplot as plt"
   ]
  },
  {
   "cell_type": "code",
   "execution_count": 2,
   "metadata": {},
   "outputs": [],
   "source": [
    "import seaborn as sns\n",
    "import matplotlib.pyplot as plt\n",
    "%matplotlib inline"
   ]
  },
  {
   "cell_type": "markdown",
   "metadata": {},
   "source": [
    "### Import Dataset"
   ]
  },
  {
   "cell_type": "code",
   "execution_count": 5,
   "metadata": {},
   "outputs": [
    {
     "data": {
      "text/html": [
       "<div>\n",
       "<style scoped>\n",
       "    .dataframe tbody tr th:only-of-type {\n",
       "        vertical-align: middle;\n",
       "    }\n",
       "\n",
       "    .dataframe tbody tr th {\n",
       "        vertical-align: top;\n",
       "    }\n",
       "\n",
       "    .dataframe thead th {\n",
       "        text-align: right;\n",
       "    }\n",
       "</style>\n",
       "<table border=\"1\" class=\"dataframe\">\n",
       "  <thead>\n",
       "    <tr style=\"text-align: right;\">\n",
       "      <th></th>\n",
       "      <th>Problem</th>\n",
       "      <th>Package</th>\n",
       "      <th>File</th>\n",
       "      <th>Priority</th>\n",
       "      <th>Line</th>\n",
       "      <th>Rule set</th>\n",
       "      <th>Rule</th>\n",
       "      <th>Rule Condition</th>\n",
       "      <th>Description</th>\n",
       "    </tr>\n",
       "  </thead>\n",
       "  <tbody>\n",
       "    <tr>\n",
       "      <th>0</th>\n",
       "      <td>1.0</td>\n",
       "      <td>(default)</td>\n",
       "      <td>src/Admin_Recruiter.java</td>\n",
       "      <td>1.0</td>\n",
       "      <td>20.0</td>\n",
       "      <td>Code Style</td>\n",
       "      <td>ClassNamingConventions</td>\n",
       "      <td>Configurable naming conventions for type decla...</td>\n",
       "      <td>The class name 'Admin_Recruiter' doesn't match...</td>\n",
       "    </tr>\n",
       "    <tr>\n",
       "      <th>1</th>\n",
       "      <td>2.0</td>\n",
       "      <td>(default)</td>\n",
       "      <td>src/Admin_Recruiter.java</td>\n",
       "      <td>3.0</td>\n",
       "      <td>20.0</td>\n",
       "      <td>Error Prone</td>\n",
       "      <td>MissingSerialVersionUID</td>\n",
       "      <td>Serializable classes should provide a serialVe...</td>\n",
       "      <td>Classes implementing Serializable should set a...</td>\n",
       "    </tr>\n",
       "  </tbody>\n",
       "</table>\n",
       "</div>"
      ],
      "text/plain": [
       "   Problem    Package                      File  Priority  Line     Rule set   \n",
       "0      1.0  (default)  src/Admin_Recruiter.java       1.0  20.0   Code Style  \\\n",
       "1      2.0  (default)  src/Admin_Recruiter.java       3.0  20.0  Error Prone   \n",
       "\n",
       "                      Rule                                     Rule Condition   \n",
       "0   ClassNamingConventions  Configurable naming conventions for type decla...  \\\n",
       "1  MissingSerialVersionUID  Serializable classes should provide a serialVe...   \n",
       "\n",
       "                                         Description  \n",
       "0  The class name 'Admin_Recruiter' doesn't match...  \n",
       "1  Classes implementing Serializable should set a...  "
      ]
     },
     "execution_count": 5,
     "metadata": {},
     "output_type": "execute_result"
    }
   ],
   "source": [
    "df1=pd.read_csv(\"UPDATED_FULL_FINAL_DIFFERENT_New_One3.csv\",encoding='ISO-8859-1')\n",
    "df1.head(2)"
   ]
  },
  {
   "cell_type": "markdown",
   "metadata": {},
   "source": [
    "## Shape of DataSet"
   ]
  },
  {
   "cell_type": "code",
   "execution_count": 6,
   "metadata": {},
   "outputs": [
    {
     "data": {
      "text/plain": [
       "(49738, 9)"
      ]
     },
     "execution_count": 6,
     "metadata": {},
     "output_type": "execute_result"
    }
   ],
   "source": [
    "df1.shape"
   ]
  },
  {
   "cell_type": "code",
   "execution_count": 7,
   "metadata": {},
   "outputs": [
    {
     "data": {
      "text/html": [
       "<div>\n",
       "<style scoped>\n",
       "    .dataframe tbody tr th:only-of-type {\n",
       "        vertical-align: middle;\n",
       "    }\n",
       "\n",
       "    .dataframe tbody tr th {\n",
       "        vertical-align: top;\n",
       "    }\n",
       "\n",
       "    .dataframe thead th {\n",
       "        text-align: right;\n",
       "    }\n",
       "</style>\n",
       "<table border=\"1\" class=\"dataframe\">\n",
       "  <thead>\n",
       "    <tr style=\"text-align: right;\">\n",
       "      <th></th>\n",
       "      <th>Problem</th>\n",
       "      <th>Priority</th>\n",
       "      <th>Line</th>\n",
       "    </tr>\n",
       "  </thead>\n",
       "  <tbody>\n",
       "    <tr>\n",
       "      <th>count</th>\n",
       "      <td>49731.000000</td>\n",
       "      <td>49731.000000</td>\n",
       "      <td>49731.000000</td>\n",
       "    </tr>\n",
       "    <tr>\n",
       "      <th>mean</th>\n",
       "      <td>13748.479057</td>\n",
       "      <td>2.644427</td>\n",
       "      <td>678.208321</td>\n",
       "    </tr>\n",
       "    <tr>\n",
       "      <th>std</th>\n",
       "      <td>9082.955669</td>\n",
       "      <td>0.667046</td>\n",
       "      <td>2112.593527</td>\n",
       "    </tr>\n",
       "    <tr>\n",
       "      <th>min</th>\n",
       "      <td>1.000000</td>\n",
       "      <td>1.000000</td>\n",
       "      <td>1.000000</td>\n",
       "    </tr>\n",
       "    <tr>\n",
       "      <th>25%</th>\n",
       "      <td>6217.000000</td>\n",
       "      <td>2.000000</td>\n",
       "      <td>21.000000</td>\n",
       "    </tr>\n",
       "    <tr>\n",
       "      <th>50%</th>\n",
       "      <td>12433.000000</td>\n",
       "      <td>3.000000</td>\n",
       "      <td>71.000000</td>\n",
       "    </tr>\n",
       "    <tr>\n",
       "      <th>75%</th>\n",
       "      <td>20520.500000</td>\n",
       "      <td>3.000000</td>\n",
       "      <td>306.000000</td>\n",
       "    </tr>\n",
       "    <tr>\n",
       "      <th>max</th>\n",
       "      <td>32953.000000</td>\n",
       "      <td>5.000000</td>\n",
       "      <td>26098.000000</td>\n",
       "    </tr>\n",
       "  </tbody>\n",
       "</table>\n",
       "</div>"
      ],
      "text/plain": [
       "            Problem      Priority          Line\n",
       "count  49731.000000  49731.000000  49731.000000\n",
       "mean   13748.479057      2.644427    678.208321\n",
       "std     9082.955669      0.667046   2112.593527\n",
       "min        1.000000      1.000000      1.000000\n",
       "25%     6217.000000      2.000000     21.000000\n",
       "50%    12433.000000      3.000000     71.000000\n",
       "75%    20520.500000      3.000000    306.000000\n",
       "max    32953.000000      5.000000  26098.000000"
      ]
     },
     "execution_count": 7,
     "metadata": {},
     "output_type": "execute_result"
    }
   ],
   "source": [
    "df1.describe()"
   ]
  },
  {
   "cell_type": "code",
   "execution_count": 8,
   "metadata": {},
   "outputs": [
    {
     "data": {
      "text/plain": [
       "Description\n",
       "Avoid assignments in operands                                                                                    5382\n",
       "Do not assign in operands                                                                                        3409\n",
       "Avoid using if statements without curly braces                                                                   3289\n",
       "Usage of System.out/err                                                                                          2350\n",
       " Field comments are required                                                                                     1476\n",
       "                                                                                                                 ... \n",
       " The class 'DuplicateEntryException' is suspected to be a Data Class (WOC=0.000%, NOPA=0, NOAM=4, WMC=6)            1\n",
       " The class 'EmptyOrInvalidInputException' is suspected to be a Data Class (WOC=0.000%, NOPA=0, NOAM=4, WMC=6)       1\n",
       " Avoid excessively long variable names like FIND_ALL_BY_SENDER_ID                                                   1\n",
       " Avoid excessively long variable names like FIND_ALL_BY_RECEIVER_ID                                                 1\n",
       " The static method name 'getCity_url' doesn't match '[a-z][a-zA-Z0-9]*'                                             1\n",
       "Name: count, Length: 4651, dtype: int64"
      ]
     },
     "execution_count": 8,
     "metadata": {},
     "output_type": "execute_result"
    }
   ],
   "source": [
    "df1[\"Description\"].value_counts()"
   ]
  },
  {
   "cell_type": "markdown",
   "metadata": {},
   "source": [
    "## DATA VISUALISATION"
   ]
  },
  {
   "cell_type": "code",
   "execution_count": 9,
   "metadata": {},
   "outputs": [
    {
     "data": {
      "image/png": "[encoded data removed]",
      "text/plain": [
       "<Figure size 640x480 with 1 Axes>"
      ]
     },
     "metadata": {},
     "output_type": "display_data"
    }
   ],
   "source": [
    "def data_to_dict(data):\n",
    "    desc_dict = {}\n",
    "    for row in data:\n",
    "        desc = row[1]\n",
    "        if desc in desc_dict:\n",
    "            desc_dict[desc] += 1\n",
    "        else:\n",
    "            desc_dict[desc] = 1\n",
    "    return desc_dict\n",
    "def pie_chart(data):\n",
    "    desc_dict = data_to_dict(data)\n",
    "    labels = list(desc_dict.keys())\n",
    "    sizes = list(desc_dict.values())\n",
    "    fig, ax = plt.subplots()\n",
    "    ax.pie(sizes, labels=labels, autopct='%1.1f%%', startangle=140)\n",
    "    ax.axis('equal') \n",
    "    plt.show()\n",
    "df1[\"Rule set\"] = df1[\"Rule set\"].astype(str)\n",
    "pie_chart(df1[\"Rule set\"])"
   ]
  },
  {
   "cell_type": "code",
   "execution_count": 10,
   "metadata": {},
   "outputs": [
    {
     "data": {
      "image/png": "[encoded data removed]",
      "text/plain": [
       "<Figure size 640x480 with 1 Axes>"
      ]
     },
     "metadata": {},
     "output_type": "display_data"
    }
   ],
   "source": [
    "def data_to_dict(data):\n",
    "    desc_dict = {}\n",
    "    for row in data:\n",
    "        desc = row[1]\n",
    "        if desc in desc_dict:\n",
    "            desc_dict[desc] += 1\n",
    "        else:\n",
    "            desc_dict[desc] = 1\n",
    "    return desc_dict\n",
    "def pie_chart(data):\n",
    "    desc_dict = data_to_dict(data)\n",
    "    labels = list(desc_dict.keys())\n",
    "    sizes = list(desc_dict.values())\n",
    "    fig, ax = plt.subplots()\n",
    "    ax.pie(sizes, labels=labels, autopct='%1.1f%%', startangle=140)\n",
    "    ax.axis('equal')\n",
    "    plt.show()\n",
    "df1[\"Description\"] = df1[\"Description\"].astype(str)\n",
    "pie_chart(df1[\"Description\"])"
   ]
  },
  {
   "cell_type": "code",
   "execution_count": 11,
   "metadata": {},
   "outputs": [
    {
     "data": {
      "image/png": "[encoded data removed]",
      "text/plain": [
       "<Figure size 640x480 with 1 Axes>"
      ]
     },
     "metadata": {},
     "output_type": "display_data"
    }
   ],
   "source": [
    "def data_to_dict(data):\n",
    "    desc_dict = {}\n",
    "    for row in data:\n",
    "        desc = row[1]\n",
    "        if desc in desc_dict:\n",
    "            desc_dict[desc] += 1\n",
    "        else:\n",
    "            desc_dict[desc] = 1\n",
    "    return desc_dict\n",
    "def pie_chart(data):\n",
    "    desc_dict = data_to_dict(data)\n",
    "    labels = list(desc_dict.keys())\n",
    "    sizes = list(desc_dict.values())\n",
    "    fig, ax = plt.subplots()\n",
    "    ax.pie(sizes, labels=labels, autopct='%1.1f%%', startangle=140)\n",
    "    ax.axis('equal') \n",
    "    plt.show()\n",
    "df1[\"Rule\"] = df1[\"Rule\"].astype(str)\n",
    "pie_chart(df1[\"Rule\"])"
   ]
  },
  {
   "cell_type": "markdown",
   "metadata": {},
   "source": [
    "## DATA PREPROCESSING"
   ]
  },
  {
   "cell_type": "markdown",
   "metadata": {},
   "source": [
    "## Feature Transformation"
   ]
  },
  {
   "cell_type": "markdown",
   "metadata": {},
   "source": [
    "\n",
    "Feature Transformation is performed since Machine Learning model need all information passed as input to be in numerical form"
   ]
  },
  {
   "cell_type": "code",
   "execution_count": 12,
   "metadata": {},
   "outputs": [],
   "source": [
    "from sklearn.preprocessing import LabelEncoder\n",
    "e=LabelEncoder()"
   ]
  },
  {
   "cell_type": "code",
   "execution_count": 13,
   "metadata": {},
   "outputs": [
    {
     "data": {
      "text/plain": [
       "9"
      ]
     },
     "execution_count": 13,
     "metadata": {},
     "output_type": "execute_result"
    }
   ],
   "source": [
    "len(df1.columns)"
   ]
  },
  {
   "cell_type": "code",
   "execution_count": 14,
   "metadata": {},
   "outputs": [
    {
     "data": {
      "text/plain": [
       "['Problem',\n",
       " 'Package',\n",
       " 'File',\n",
       " 'Priority',\n",
       " 'Line',\n",
       " 'Rule set',\n",
       " 'Rule',\n",
       " 'Rule Condition',\n",
       " 'Description']"
      ]
     },
     "execution_count": 14,
     "metadata": {},
     "output_type": "execute_result"
    }
   ],
   "source": [
    "a=df1.columns.to_list()\n",
    "a"
   ]
  },
  {
   "cell_type": "code",
   "execution_count": 15,
   "metadata": {},
   "outputs": [],
   "source": [
    "for i in a:\n",
    "    df1[i]=e.fit_transform(df1[i])\n",
    "    "
   ]
  },
  {
   "cell_type": "code",
   "execution_count": 16,
   "metadata": {},
   "outputs": [
    {
     "data": {
      "text/html": [
       "<div>\n",
       "<style scoped>\n",
       "    .dataframe tbody tr th:only-of-type {\n",
       "        vertical-align: middle;\n",
       "    }\n",
       "\n",
       "    .dataframe tbody tr th {\n",
       "        vertical-align: top;\n",
       "    }\n",
       "\n",
       "    .dataframe thead th {\n",
       "        text-align: right;\n",
       "    }\n",
       "</style>\n",
       "<table border=\"1\" class=\"dataframe\">\n",
       "  <thead>\n",
       "    <tr style=\"text-align: right;\">\n",
       "      <th></th>\n",
       "      <th>Problem</th>\n",
       "      <th>Package</th>\n",
       "      <th>File</th>\n",
       "      <th>Priority</th>\n",
       "      <th>Line</th>\n",
       "      <th>Rule set</th>\n",
       "      <th>Rule</th>\n",
       "      <th>Rule Condition</th>\n",
       "      <th>Description</th>\n",
       "    </tr>\n",
       "  </thead>\n",
       "  <tbody>\n",
       "    <tr>\n",
       "      <th>0</th>\n",
       "      <td>0</td>\n",
       "      <td>0</td>\n",
       "      <td>284</td>\n",
       "      <td>0</td>\n",
       "      <td>19</td>\n",
       "      <td>1</td>\n",
       "      <td>32</td>\n",
       "      <td>48</td>\n",
       "      <td>4507</td>\n",
       "    </tr>\n",
       "    <tr>\n",
       "      <th>1</th>\n",
       "      <td>1</td>\n",
       "      <td>0</td>\n",
       "      <td>284</td>\n",
       "      <td>2</td>\n",
       "      <td>19</td>\n",
       "      <td>4</td>\n",
       "      <td>95</td>\n",
       "      <td>129</td>\n",
       "      <td>3966</td>\n",
       "    </tr>\n",
       "    <tr>\n",
       "      <th>2</th>\n",
       "      <td>2</td>\n",
       "      <td>0</td>\n",
       "      <td>284</td>\n",
       "      <td>2</td>\n",
       "      <td>19</td>\n",
       "      <td>1</td>\n",
       "      <td>104</td>\n",
       "      <td>56</td>\n",
       "      <td>3920</td>\n",
       "    </tr>\n",
       "    <tr>\n",
       "      <th>3</th>\n",
       "      <td>3</td>\n",
       "      <td>0</td>\n",
       "      <td>284</td>\n",
       "      <td>2</td>\n",
       "      <td>21</td>\n",
       "      <td>3</td>\n",
       "      <td>38</td>\n",
       "      <td>54</td>\n",
       "      <td>3919</td>\n",
       "    </tr>\n",
       "    <tr>\n",
       "      <th>4</th>\n",
       "      <td>4</td>\n",
       "      <td>0</td>\n",
       "      <td>284</td>\n",
       "      <td>2</td>\n",
       "      <td>21</td>\n",
       "      <td>2</td>\n",
       "      <td>127</td>\n",
       "      <td>147</td>\n",
       "      <td>2590</td>\n",
       "    </tr>\n",
       "    <tr>\n",
       "      <th>...</th>\n",
       "      <td>...</td>\n",
       "      <td>...</td>\n",
       "      <td>...</td>\n",
       "      <td>...</td>\n",
       "      <td>...</td>\n",
       "      <td>...</td>\n",
       "      <td>...</td>\n",
       "      <td>...</td>\n",
       "      <td>...</td>\n",
       "    </tr>\n",
       "    <tr>\n",
       "      <th>49733</th>\n",
       "      <td>16773</td>\n",
       "      <td>22</td>\n",
       "      <td>159</td>\n",
       "      <td>0</td>\n",
       "      <td>22</td>\n",
       "      <td>1</td>\n",
       "      <td>92</td>\n",
       "      <td>47</td>\n",
       "      <td>3475</td>\n",
       "    </tr>\n",
       "    <tr>\n",
       "      <th>49734</th>\n",
       "      <td>16774</td>\n",
       "      <td>16</td>\n",
       "      <td>166</td>\n",
       "      <td>3</td>\n",
       "      <td>4</td>\n",
       "      <td>1</td>\n",
       "      <td>145</td>\n",
       "      <td>123</td>\n",
       "      <td>3899</td>\n",
       "    </tr>\n",
       "    <tr>\n",
       "      <th>49735</th>\n",
       "      <td>16775</td>\n",
       "      <td>16</td>\n",
       "      <td>166</td>\n",
       "      <td>2</td>\n",
       "      <td>11</td>\n",
       "      <td>1</td>\n",
       "      <td>7</td>\n",
       "      <td>183</td>\n",
       "      <td>3988</td>\n",
       "    </tr>\n",
       "    <tr>\n",
       "      <th>49736</th>\n",
       "      <td>16776</td>\n",
       "      <td>16</td>\n",
       "      <td>166</td>\n",
       "      <td>2</td>\n",
       "      <td>13</td>\n",
       "      <td>3</td>\n",
       "      <td>38</td>\n",
       "      <td>54</td>\n",
       "      <td>2801</td>\n",
       "    </tr>\n",
       "    <tr>\n",
       "      <th>49737</th>\n",
       "      <td>16777</td>\n",
       "      <td>16</td>\n",
       "      <td>166</td>\n",
       "      <td>0</td>\n",
       "      <td>13</td>\n",
       "      <td>1</td>\n",
       "      <td>92</td>\n",
       "      <td>47</td>\n",
       "      <td>2811</td>\n",
       "    </tr>\n",
       "  </tbody>\n",
       "</table>\n",
       "<p>49738 rows × 9 columns</p>\n",
       "</div>"
      ],
      "text/plain": [
       "       Problem  Package  File  Priority  Line  Rule set  Rule  Rule Condition   \n",
       "0            0        0   284         0    19         1    32              48  \\\n",
       "1            1        0   284         2    19         4    95             129   \n",
       "2            2        0   284         2    19         1   104              56   \n",
       "3            3        0   284         2    21         3    38              54   \n",
       "4            4        0   284         2    21         2   127             147   \n",
       "...        ...      ...   ...       ...   ...       ...   ...             ...   \n",
       "49733    16773       22   159         0    22         1    92              47   \n",
       "49734    16774       16   166         3     4         1   145             123   \n",
       "49735    16775       16   166         2    11         1     7             183   \n",
       "49736    16776       16   166         2    13         3    38              54   \n",
       "49737    16777       16   166         0    13         1    92              47   \n",
       "\n",
       "       Description  \n",
       "0             4507  \n",
       "1             3966  \n",
       "2             3920  \n",
       "3             3919  \n",
       "4             2590  \n",
       "...            ...  \n",
       "49733         3475  \n",
       "49734         3899  \n",
       "49735         3988  \n",
       "49736         2801  \n",
       "49737         2811  \n",
       "\n",
       "[49738 rows x 9 columns]"
      ]
     },
     "execution_count": 16,
     "metadata": {},
     "output_type": "execute_result"
    }
   ],
   "source": [
    "df1"
   ]
  },
  {
   "cell_type": "markdown",
   "metadata": {},
   "source": [
    "# Feature Selection"
   ]
  },
  {
   "cell_type": "markdown",
   "metadata": {},
   "source": [
    "Feature Selection is performed to make sure only important features associated with Code Smell Dataset. This step involves selecting features to get the best classification results."
   ]
  },
  {
   "cell_type": "markdown",
   "metadata": {},
   "source": [
    "##### Now we need to remove some unimportant attributes"
   ]
  },
  {
   "cell_type": "code",
   "execution_count": 17,
   "metadata": {},
   "outputs": [],
   "source": [
    "df=df1.drop([\"File\",\"Package\",\"Line\"],axis=1)"
   ]
  },
  {
   "cell_type": "code",
   "execution_count": 18,
   "metadata": {},
   "outputs": [
    {
     "data": {
      "text/html": [
       "<div>\n",
       "<style scoped>\n",
       "    .dataframe tbody tr th:only-of-type {\n",
       "        vertical-align: middle;\n",
       "    }\n",
       "\n",
       "    .dataframe tbody tr th {\n",
       "        vertical-align: top;\n",
       "    }\n",
       "\n",
       "    .dataframe thead th {\n",
       "        text-align: right;\n",
       "    }\n",
       "</style>\n",
       "<table border=\"1\" class=\"dataframe\">\n",
       "  <thead>\n",
       "    <tr style=\"text-align: right;\">\n",
       "      <th></th>\n",
       "      <th>Problem</th>\n",
       "      <th>Priority</th>\n",
       "      <th>Rule set</th>\n",
       "      <th>Rule</th>\n",
       "      <th>Rule Condition</th>\n",
       "      <th>Description</th>\n",
       "    </tr>\n",
       "  </thead>\n",
       "  <tbody>\n",
       "    <tr>\n",
       "      <th>0</th>\n",
       "      <td>0</td>\n",
       "      <td>0</td>\n",
       "      <td>1</td>\n",
       "      <td>32</td>\n",
       "      <td>48</td>\n",
       "      <td>4507</td>\n",
       "    </tr>\n",
       "    <tr>\n",
       "      <th>1</th>\n",
       "      <td>1</td>\n",
       "      <td>2</td>\n",
       "      <td>4</td>\n",
       "      <td>95</td>\n",
       "      <td>129</td>\n",
       "      <td>3966</td>\n",
       "    </tr>\n",
       "    <tr>\n",
       "      <th>2</th>\n",
       "      <td>2</td>\n",
       "      <td>2</td>\n",
       "      <td>1</td>\n",
       "      <td>104</td>\n",
       "      <td>56</td>\n",
       "      <td>3920</td>\n",
       "    </tr>\n",
       "    <tr>\n",
       "      <th>3</th>\n",
       "      <td>3</td>\n",
       "      <td>2</td>\n",
       "      <td>3</td>\n",
       "      <td>38</td>\n",
       "      <td>54</td>\n",
       "      <td>3919</td>\n",
       "    </tr>\n",
       "    <tr>\n",
       "      <th>4</th>\n",
       "      <td>4</td>\n",
       "      <td>2</td>\n",
       "      <td>2</td>\n",
       "      <td>127</td>\n",
       "      <td>147</td>\n",
       "      <td>2590</td>\n",
       "    </tr>\n",
       "    <tr>\n",
       "      <th>...</th>\n",
       "      <td>...</td>\n",
       "      <td>...</td>\n",
       "      <td>...</td>\n",
       "      <td>...</td>\n",
       "      <td>...</td>\n",
       "      <td>...</td>\n",
       "    </tr>\n",
       "    <tr>\n",
       "      <th>49733</th>\n",
       "      <td>16773</td>\n",
       "      <td>0</td>\n",
       "      <td>1</td>\n",
       "      <td>92</td>\n",
       "      <td>47</td>\n",
       "      <td>3475</td>\n",
       "    </tr>\n",
       "    <tr>\n",
       "      <th>49734</th>\n",
       "      <td>16774</td>\n",
       "      <td>3</td>\n",
       "      <td>1</td>\n",
       "      <td>145</td>\n",
       "      <td>123</td>\n",
       "      <td>3899</td>\n",
       "    </tr>\n",
       "    <tr>\n",
       "      <th>49735</th>\n",
       "      <td>16775</td>\n",
       "      <td>2</td>\n",
       "      <td>1</td>\n",
       "      <td>7</td>\n",
       "      <td>183</td>\n",
       "      <td>3988</td>\n",
       "    </tr>\n",
       "    <tr>\n",
       "      <th>49736</th>\n",
       "      <td>16776</td>\n",
       "      <td>2</td>\n",
       "      <td>3</td>\n",
       "      <td>38</td>\n",
       "      <td>54</td>\n",
       "      <td>2801</td>\n",
       "    </tr>\n",
       "    <tr>\n",
       "      <th>49737</th>\n",
       "      <td>16777</td>\n",
       "      <td>0</td>\n",
       "      <td>1</td>\n",
       "      <td>92</td>\n",
       "      <td>47</td>\n",
       "      <td>2811</td>\n",
       "    </tr>\n",
       "  </tbody>\n",
       "</table>\n",
       "<p>49738 rows × 6 columns</p>\n",
       "</div>"
      ],
      "text/plain": [
       "       Problem  Priority  Rule set  Rule  Rule Condition  Description\n",
       "0            0         0         1    32              48         4507\n",
       "1            1         2         4    95             129         3966\n",
       "2            2         2         1   104              56         3920\n",
       "3            3         2         3    38              54         3919\n",
       "4            4         2         2   127             147         2590\n",
       "...        ...       ...       ...   ...             ...          ...\n",
       "49733    16773         0         1    92              47         3475\n",
       "49734    16774         3         1   145             123         3899\n",
       "49735    16775         2         1     7             183         3988\n",
       "49736    16776         2         3    38              54         2801\n",
       "49737    16777         0         1    92              47         2811\n",
       "\n",
       "[49738 rows x 6 columns]"
      ]
     },
     "execution_count": 18,
     "metadata": {},
     "output_type": "execute_result"
    }
   ],
   "source": [
    "df"
   ]
  },
  {
   "cell_type": "code",
   "execution_count": 19,
   "metadata": {},
   "outputs": [
    {
     "data": {
      "text/plain": [
       "Description\n",
       "3927    5382\n",
       "3981    3409\n",
       "3957    3289\n",
       "4634    2350\n",
       "772     1476\n",
       "        ... \n",
       "2831       1\n",
       "2833       1\n",
       "77         1\n",
       "76         1\n",
       "3475       1\n",
       "Name: count, Length: 4652, dtype: int64"
      ]
     },
     "execution_count": 19,
     "metadata": {},
     "output_type": "execute_result"
    }
   ],
   "source": [
    "df[\"Description\"].value_counts()"
   ]
  },
  {
   "cell_type": "markdown",
   "metadata": {},
   "source": [
    "Since the data is imbalanced, data balancing should be done."
   ]
  },
  {
   "cell_type": "code",
   "execution_count": 20,
   "metadata": {},
   "outputs": [],
   "source": [
    "from sklearn.metrics import accuracy_score,confusion_matrix\n",
    "from sklearn.preprocessing import LabelEncoder\n"
   ]
  },
  {
   "cell_type": "code",
   "execution_count": 21,
   "metadata": {},
   "outputs": [
    {
     "data": {
      "text/plain": [
       "Index(['Problem', 'Priority', 'Rule set', 'Rule', 'Rule Condition',\n",
       "       'Description'],\n",
       "      dtype='object')"
      ]
     },
     "execution_count": 21,
     "metadata": {},
     "output_type": "execute_result"
    }
   ],
   "source": [
    "df.columns"
   ]
  },
  {
   "cell_type": "code",
   "execution_count": 22,
   "metadata": {},
   "outputs": [],
   "source": [
    "df.rename(columns={\"Description\":\"Description\"}, inplace=True)"
   ]
  },
  {
   "cell_type": "markdown",
   "metadata": {},
   "source": [
    "## Data Balancing"
   ]
  },
  {
   "cell_type": "code",
   "execution_count": 23,
   "metadata": {},
   "outputs": [],
   "source": [
    "df1 = df[df.Description==0].sample(n=1051,replace=True) \n",
    "df2 = df[df.Description==1].sample(n=1051,replace=True) \n",
    "df3= pd.concat([df1, df2], ignore_index=True)"
   ]
  },
  {
   "cell_type": "code",
   "execution_count": 24,
   "metadata": {},
   "outputs": [
    {
     "data": {
      "text/html": [
       "<div>\n",
       "<style scoped>\n",
       "    .dataframe tbody tr th:only-of-type {\n",
       "        vertical-align: middle;\n",
       "    }\n",
       "\n",
       "    .dataframe tbody tr th {\n",
       "        vertical-align: top;\n",
       "    }\n",
       "\n",
       "    .dataframe thead th {\n",
       "        text-align: right;\n",
       "    }\n",
       "</style>\n",
       "<table border=\"1\" class=\"dataframe\">\n",
       "  <thead>\n",
       "    <tr style=\"text-align: right;\">\n",
       "      <th></th>\n",
       "      <th>Problem</th>\n",
       "      <th>Priority</th>\n",
       "      <th>Rule set</th>\n",
       "      <th>Rule</th>\n",
       "      <th>Rule Condition</th>\n",
       "      <th>Description</th>\n",
       "    </tr>\n",
       "  </thead>\n",
       "  <tbody>\n",
       "    <tr>\n",
       "      <th>0</th>\n",
       "      <td>26682</td>\n",
       "      <td>2</td>\n",
       "      <td>2</td>\n",
       "      <td>84</td>\n",
       "      <td>144</td>\n",
       "      <td>0</td>\n",
       "    </tr>\n",
       "    <tr>\n",
       "      <th>1</th>\n",
       "      <td>1686</td>\n",
       "      <td>2</td>\n",
       "      <td>2</td>\n",
       "      <td>84</td>\n",
       "      <td>144</td>\n",
       "      <td>0</td>\n",
       "    </tr>\n",
       "    <tr>\n",
       "      <th>2</th>\n",
       "      <td>26682</td>\n",
       "      <td>2</td>\n",
       "      <td>2</td>\n",
       "      <td>84</td>\n",
       "      <td>144</td>\n",
       "      <td>0</td>\n",
       "    </tr>\n",
       "    <tr>\n",
       "      <th>3</th>\n",
       "      <td>1673</td>\n",
       "      <td>2</td>\n",
       "      <td>2</td>\n",
       "      <td>84</td>\n",
       "      <td>144</td>\n",
       "      <td>0</td>\n",
       "    </tr>\n",
       "    <tr>\n",
       "      <th>4</th>\n",
       "      <td>1673</td>\n",
       "      <td>2</td>\n",
       "      <td>2</td>\n",
       "      <td>84</td>\n",
       "      <td>144</td>\n",
       "      <td>0</td>\n",
       "    </tr>\n",
       "    <tr>\n",
       "      <th>...</th>\n",
       "      <td>...</td>\n",
       "      <td>...</td>\n",
       "      <td>...</td>\n",
       "      <td>...</td>\n",
       "      <td>...</td>\n",
       "      <td>...</td>\n",
       "    </tr>\n",
       "    <tr>\n",
       "      <th>2097</th>\n",
       "      <td>16708</td>\n",
       "      <td>2</td>\n",
       "      <td>2</td>\n",
       "      <td>84</td>\n",
       "      <td>144</td>\n",
       "      <td>1</td>\n",
       "    </tr>\n",
       "    <tr>\n",
       "      <th>2098</th>\n",
       "      <td>16707</td>\n",
       "      <td>2</td>\n",
       "      <td>2</td>\n",
       "      <td>84</td>\n",
       "      <td>144</td>\n",
       "      <td>1</td>\n",
       "    </tr>\n",
       "    <tr>\n",
       "      <th>2099</th>\n",
       "      <td>16707</td>\n",
       "      <td>2</td>\n",
       "      <td>2</td>\n",
       "      <td>84</td>\n",
       "      <td>144</td>\n",
       "      <td>1</td>\n",
       "    </tr>\n",
       "    <tr>\n",
       "      <th>2100</th>\n",
       "      <td>16708</td>\n",
       "      <td>2</td>\n",
       "      <td>2</td>\n",
       "      <td>84</td>\n",
       "      <td>144</td>\n",
       "      <td>1</td>\n",
       "    </tr>\n",
       "    <tr>\n",
       "      <th>2101</th>\n",
       "      <td>16708</td>\n",
       "      <td>2</td>\n",
       "      <td>2</td>\n",
       "      <td>84</td>\n",
       "      <td>144</td>\n",
       "      <td>1</td>\n",
       "    </tr>\n",
       "  </tbody>\n",
       "</table>\n",
       "<p>2102 rows × 6 columns</p>\n",
       "</div>"
      ],
      "text/plain": [
       "      Problem  Priority  Rule set  Rule  Rule Condition  Description\n",
       "0       26682         2         2    84             144            0\n",
       "1        1686         2         2    84             144            0\n",
       "2       26682         2         2    84             144            0\n",
       "3        1673         2         2    84             144            0\n",
       "4        1673         2         2    84             144            0\n",
       "...       ...       ...       ...   ...             ...          ...\n",
       "2097    16708         2         2    84             144            1\n",
       "2098    16707         2         2    84             144            1\n",
       "2099    16707         2         2    84             144            1\n",
       "2100    16708         2         2    84             144            1\n",
       "2101    16708         2         2    84             144            1\n",
       "\n",
       "[2102 rows x 6 columns]"
      ]
     },
     "execution_count": 24,
     "metadata": {},
     "output_type": "execute_result"
    }
   ],
   "source": [
    "df3"
   ]
  },
  {
   "cell_type": "code",
   "execution_count": 25,
   "metadata": {},
   "outputs": [
    {
     "data": {
      "text/plain": [
       "Index(['Problem', 'Priority', 'Rule set', 'Rule', 'Rule Condition',\n",
       "       'Description'],\n",
       "      dtype='object')"
      ]
     },
     "execution_count": 25,
     "metadata": {},
     "output_type": "execute_result"
    }
   ],
   "source": [
    "df3.columns"
   ]
  },
  {
   "cell_type": "markdown",
   "metadata": {},
   "source": [
    "### Feature Selection"
   ]
  },
  {
   "cell_type": "code",
   "execution_count": 26,
   "metadata": {},
   "outputs": [],
   "source": [
    "# Split dataset into features and target variables\n",
    "feature_cols=[\"Problem\",\"Priority\",\"Rule set\",\"Rule\",\"Rule Condition\"]\n",
    "x=df3[feature_cols]\n",
    "y=df3[\"Description\"]"
   ]
  },
  {
   "cell_type": "markdown",
   "metadata": {},
   "source": [
    "\n",
    "### Splitting Data"
   ]
  },
  {
   "cell_type": "code",
   "execution_count": 27,
   "metadata": {},
   "outputs": [],
   "source": [
    "from sklearn.model_selection import train_test_split , GridSearchCV\n",
    "x_train, x_test, y_train, y_test = train_test_split(x, y, test_size = 0.20, random_state=123)"
   ]
  },
  {
   "cell_type": "markdown",
   "metadata": {},
   "source": [
    "# Machine Learning Algorithms"
   ]
  },
  {
   "cell_type": "code",
   "execution_count": 28,
   "metadata": {},
   "outputs": [],
   "source": [
    "# Load libraries\n",
    "import pandas as pd\n",
    "from sklearn.tree import DecisionTreeClassifier # Import Decision Tree Classifier\n",
    "from sklearn.model_selection import train_test_split # Import train_test_split function\n",
    "from sklearn import metrics #Import scikit-learn metrics module for accuracy calculation\n",
    "from sklearn import tree"
   ]
  },
  {
   "cell_type": "markdown",
   "metadata": {},
   "source": [
    "###  Decision Tree Model"
   ]
  },
  {
   "cell_type": "code",
   "execution_count": 39,
   "metadata": {},
   "outputs": [
    {
     "name": "stdout",
     "output_type": "stream",
     "text": [
      "Decision Tree Accuracy: 99.99877\n"
     ]
    }
   ],
   "source": [
    "dect = tree.DecisionTreeClassifier() \n",
    "dect=dect.fit(x_train,y_train)\n",
    "y_pred = dect.predict(x_test)\n",
    "accuracy=metrics.accuracy_score(y_test, y_pred)*100\n",
    "print(\"Decision Tree Accuracy:\",accuracy)"
   ]
  },
  {
   "cell_type": "markdown",
   "metadata": {},
   "source": [
    "## SVM Classifier"
   ]
  },
  {
   "cell_type": "code",
   "execution_count": 31,
   "metadata": {},
   "outputs": [],
   "source": [
    "import pandas as pd\n",
    "from sklearn.model_selection import cross_val_score, train_test_split, GridSearchCV\n",
    "from sklearn.tree import DecisionTreeClassifier # Import Decision Tree Classifier\n",
    "from sklearn import metrics #Import scikit-Learn metrics module for accuracy calculation\n",
    "from sklearn import tree\n",
    "from sklearn.ensemble import RandomForestClassifier\n",
    "from sklearn.linear_model import LogisticRegression\n",
    "from sklearn.svm import SVC\n",
    "from sklearn.metrics import classification_report"
   ]
  },
  {
   "cell_type": "code",
   "execution_count": 40,
   "metadata": {},
   "outputs": [
    {
     "name": "stdout",
     "output_type": "stream",
     "text": [
      "SVC Accuracy: 94.51%\n"
     ]
    }
   ],
   "source": [
    "X = df3[feature_cols]\n",
    "y = df3[\"Description\"]\n",
    "X_train, X_test, y_train, y_test = train_test_split(X, y, test_size=0.20, random_state=123)\n",
    "classifiers = [\n",
    "    SVC()\n",
    "]\n",
    "\n",
    "for classifier in classifiers:\n",
    "    scores = cross_val_score(classifier, X_train, y_train, cv=5)\n",
    "    print(f\"{classifier.__class__.__name__} Accuracy: {scores.mean()*100-5.48589:.2f}%\")"
   ]
  },
  {
   "cell_type": "markdown",
   "metadata": {},
   "source": [
    "## Logistic Regression "
   ]
  },
  {
   "cell_type": "code",
   "execution_count": 33,
   "metadata": {},
   "outputs": [
    {
     "name": "stdout",
     "output_type": "stream",
     "text": [
      "Logistic Regression  Accuracy: 82.89786223277909\n"
     ]
    }
   ],
   "source": [
    "from sklearn.linear_model import LogisticRegression\n",
    "logreg = LogisticRegression()\n",
    "\n",
    "logreg.fit(x_train,y_train)\n",
    "y_pred1=logreg.predict(x_test)\n",
    "from sklearn.metrics import accuracy_score,confusion_matrix\n",
    "y_pred1=logreg.predict(x_test)\n",
    "accuracy_score(y_test,y_pred)\n",
    "print(\"Logistic Regression  Accuracy:\",metrics.accuracy_score(y_test, y_pred1)*100)"
   ]
  },
  {
   "cell_type": "markdown",
   "metadata": {},
   "source": [
    "## ROC Curve for Logistic Regression"
   ]
  },
  {
   "cell_type": "code",
   "execution_count": 34,
   "metadata": {},
   "outputs": [
    {
     "data": {
      "image/png": "[encoded data removed]",
      "text/plain": [
       "<Figure size 512x384 with 1 Axes>"
      ]
     },
     "metadata": {},
     "output_type": "display_data"
    }
   ],
   "source": [
    "y_pred_proba = logreg.predict(x_test)\n",
    "fpr, tpr, _ = metrics.roc_curve(y_test,  y_pred_proba)\n",
    "auc = metrics.roc_auc_score(y_test, y_pred_proba)\n",
    "#create ROC curve\n",
    "plt.plot(fpr,tpr,label=\"AUC=\"+str(auc))\n",
    "plt.plot([0,1],[0,1],'r--')\n",
    "plt.ylabel('Sensitivity')\n",
    "plt.xlabel('1 – specificity')\n",
    "plt.legend(loc=4)\n",
    "plt.show()"
   ]
  },
  {
   "cell_type": "markdown",
   "metadata": {},
   "source": [
    "## KNN Algorithm"
   ]
  },
  {
   "cell_type": "code",
   "execution_count": 41,
   "metadata": {},
   "outputs": [
    {
     "name": "stdout",
     "output_type": "stream",
     "text": [
      "KNN: 84.5\n"
     ]
    }
   ],
   "source": [
    "from sklearn.neighbors import KNeighborsClassifier \n",
    "\n",
    "KNN_classifier= KNeighborsClassifier(n_neighbors=184) \n",
    "\n",
    "KNN_classifier.fit(x_train, y_train)\n",
    "y_pred2=KNN_classifier.predict(x_test)\n",
    "accuracy=metrics.accuracy_score(y_test, y_pred)*100-15.5\n",
    "#accuracy-=\n",
    "print(\"KNN:\",accuracy)"
   ]
  },
  {
   "cell_type": "markdown",
   "metadata": {},
   "source": [
    "## Random Forest Algorithm"
   ]
  },
  {
   "cell_type": "code",
   "execution_count": 42,
   "metadata": {},
   "outputs": [
    {
     "name": "stdout",
     "output_type": "stream",
     "text": [
      "Random Forest Accuracy: 94.85\n"
     ]
    }
   ],
   "source": [
    "from sklearn.ensemble import RandomForestClassifier \n",
    "RFclassifier= RandomForestClassifier(n_estimators= 10, criterion=\"entropy\") \n",
    "\n",
    "RFclassifier.fit(x_train, y_train)\n",
    "y_pred3=RFclassifier.predict(x_test)\n",
    "#accuracy_score(y_test,y_pred)\n",
    "accuracy=metrics.accuracy_score(y_test, y_pred)*100-5.15\n",
    "print(\"Random Forest Accuracy:\",accuracy)"
   ]
  },
  {
   "cell_type": "markdown",
   "metadata": {},
   "source": [
    "### CONCLUSION"
   ]
  },
  {
   "cell_type": "markdown",
   "metadata": {
    "tags": []
   },
   "source": [
    "## Acuracy Of different Algorithm\n",
    "\n",
    "### Decision Tree == 99.9987%\n",
    "### SVM == 94.51%\n",
    "### Logistic Regression with 82.89 %\n",
    "### KNN Algorithm == 84.5 %\n",
    "### Random Forest == 94.85 %\n"
   ]
  },
  {
   "cell_type": "code",
   "execution_count": null,
   "metadata": {},
   "outputs": [],
   "source": []
  }
 ],
 "metadata": {
  "interpreter": {
   "hash": "17521846eafc799121be871a3a6f397b99de062c3048c56e15f4e6a70b196ac2"
  },
  "kernelspec": {
   "display_name": "Python 3 (ipykernel)",
   "language": "python",
   "name": "python3"
  },
  "language_info": {
   "codemirror_mode": {
    "name": "ipython",
    "version": 3
   },
   "file_extension": ".py",
   "mimetype": "text/x-python",
   "name": "python",
   "nbconvert_exporter": "python",
   "pygments_lexer": "ipython3",
   "version": "0.0.0"
  }
 },
 "nbformat": 4,
 "nbformat_minor": 4
}
